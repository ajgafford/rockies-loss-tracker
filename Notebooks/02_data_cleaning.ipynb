{
 "cells": [
  {
   "cell_type": "markdown",
   "id": "dde442ea-9d7b-41ab-8241-b515b1e8c2d4",
   "metadata": {},
   "source": [
    "# 120+ LOSS WATCH\n",
    "\n",
    "The 2025 Colorado Rockies are *not* good at baseball. Neither were the 1962 Mets or 2024 White Sox. Each of those two teams lost 120 or 121 games, respectively. The 2025 Rockies are on a path to 120 losses. My goal is to track that throughout the season!"
   ]
  },
  {
   "cell_type": "code",
   "execution_count": 1,
   "id": "e6785d0a-32f7-4d8d-87d4-48d1c967e39f",
   "metadata": {},
   "outputs": [],
   "source": [
    "# import the required packages\n",
    "import pandas as pd\n",
    "import numpy as np"
   ]
  },
  {
   "cell_type": "code",
   "execution_count": 2,
   "id": "43c9903e-b365-4d3f-863e-1440ad2351a6",
   "metadata": {},
   "outputs": [],
   "source": [
    "# read in the schedules for the three teams\n",
    "rockies = pd.read_csv('../Data/Raw/COL_2025_schedule.csv')\n",
    "sox = pd.read_csv('../Data/Raw/CHW_2024_schedule.csv', usecols=['Gm#', 'W/L', 'R', 'RA'])\n",
    "mets = pd.read_csv('../Data/Raw/NYM_1962_schedule.csv', usecols=['Gm#', 'W/L', 'R', 'RA'])"
   ]
  },
  {
   "cell_type": "markdown",
   "id": "81c9e30b-5814-4e90-8ca0-c6a44156c0bc",
   "metadata": {},
   "source": [
    "Column names should match."
   ]
  },
  {
   "cell_type": "code",
   "execution_count": 3,
   "id": "7d638135-a95a-4dc0-89bc-cc13946ecf24",
   "metadata": {},
   "outputs": [
    {
     "name": "stdout",
     "output_type": "stream",
     "text": [
      "<class 'pandas.core.frame.DataFrame'>\n",
      "RangeIndex: 162 entries, 0 to 161\n",
      "Data columns (total 4 columns):\n",
      " #   Column        Non-Null Count  Dtype \n",
      "---  ------        --------------  ----- \n",
      " 0   Games Played  162 non-null    int64 \n",
      " 1   Result        162 non-null    object\n",
      " 2   R             162 non-null    int64 \n",
      " 3   RA            162 non-null    int64 \n",
      "dtypes: int64(3), object(1)\n",
      "memory usage: 5.2+ KB\n"
     ]
    }
   ],
   "source": [
    "for team in [sox, mets]:\n",
    "    team.rename(columns={'Gm#': 'Games Played'}, inplace=True)\n",
    "    team.rename(columns={'W/L': 'Result'}, inplace=True)\n",
    "\n",
    "sox.info()"
   ]
  },
  {
   "cell_type": "code",
   "execution_count": 4,
   "id": "0f7dbcd9-7817-40c2-babb-448af976cf6e",
   "metadata": {},
   "outputs": [
    {
     "name": "stdout",
     "output_type": "stream",
     "text": [
      "<class 'pandas.core.frame.DataFrame'>\n",
      "RangeIndex: 161 entries, 0 to 160\n",
      "Data columns (total 4 columns):\n",
      " #   Column        Non-Null Count  Dtype \n",
      "---  ------        --------------  ----- \n",
      " 0   Games Played  161 non-null    int64 \n",
      " 1   Result        161 non-null    object\n",
      " 2   R             161 non-null    int64 \n",
      " 3   RA            161 non-null    int64 \n",
      "dtypes: int64(3), object(1)\n",
      "memory usage: 5.2+ KB\n"
     ]
    }
   ],
   "source": [
    "mets.info()"
   ]
  },
  {
   "cell_type": "markdown",
   "id": "00cda6f8-d2df-4934-a8ce-48b46f26c97b",
   "metadata": {},
   "source": [
    "I will need to combine these dataframes so that I can use them in a dashboard. Each should have a column for the team name."
   ]
  },
  {
   "cell_type": "code",
   "execution_count": 5,
   "id": "66d4cbf3-53ab-4d44-bff8-5a8e728cd2c6",
   "metadata": {},
   "outputs": [
    {
     "name": "stdout",
     "output_type": "stream",
     "text": [
      "<class 'pandas.core.frame.DataFrame'>\n",
      "RangeIndex: 31 entries, 0 to 30\n",
      "Data columns (total 5 columns):\n",
      " #   Column        Non-Null Count  Dtype \n",
      "---  ------        --------------  ----- \n",
      " 0   Games Played  31 non-null     int64 \n",
      " 1   Result        31 non-null     object\n",
      " 2   R             31 non-null     int64 \n",
      " 3   RA            31 non-null     int64 \n",
      " 4   Team          31 non-null     object\n",
      "dtypes: int64(3), object(2)\n",
      "memory usage: 1.3+ KB\n"
     ]
    }
   ],
   "source": [
    "# add in the team column\n",
    "rockies['Team'] = '2025 COL'\n",
    "sox['Team'] = '2024 CHW'\n",
    "mets['Team'] = '1962 NYM'\n",
    "\n",
    "rockies.info()"
   ]
  },
  {
   "cell_type": "markdown",
   "id": "e6537123-a985-44d5-826a-3fa6e820b776",
   "metadata": {},
   "source": [
    "Each team will need a running total of the number of losses. I would also like to track their expected losses using the Pythagorean Win-Loss record developed by Bill James.\n",
    "\n",
    "$$ \\text{Pythagorean W-L} = \\frac{R^2}{R^2 +{RA}^2}$$"
   ]
  },
  {
   "cell_type": "code",
   "execution_count": 6,
   "id": "57f1ec07-779f-4f8f-8d33-46bf3639c2b4",
   "metadata": {},
   "outputs": [
    {
     "name": "stdout",
     "output_type": "stream",
     "text": [
      "<class 'pandas.core.frame.DataFrame'>\n",
      "RangeIndex: 31 entries, 0 to 30\n",
      "Data columns (total 8 columns):\n",
      " #   Column           Non-Null Count  Dtype \n",
      "---  ------           --------------  ----- \n",
      " 0   Games Played     31 non-null     int64 \n",
      " 1   Result           31 non-null     object\n",
      " 2   R                31 non-null     int64 \n",
      " 3   RA               31 non-null     int64 \n",
      " 4   Team             31 non-null     object\n",
      " 5   Loss?            31 non-null     int64 \n",
      " 6   Losses           31 non-null     int64 \n",
      " 7   Expected Losses  31 non-null     int64 \n",
      "dtypes: int64(6), object(2)\n",
      "memory usage: 2.1+ KB\n"
     ]
    }
   ],
   "source": [
    "teams = [rockies, sox, mets]\n",
    "\n",
    "for team in teams:\n",
    "    team['Loss?'] = team['Result'].str.startswith('L').astype('int') # will assign 1 if started with an 'L'\n",
    "    team['Losses'] = team['Loss?'].cumsum()\n",
    "    team['Expected Losses'] = round(team['Games Played'] * (1 - team['R'].cumsum() ** 2 / (team['R'].cumsum() ** 2 + team['RA'].cumsum() ** 2))).astype(int)\n",
    "\n",
    "rockies.info()"
   ]
  },
  {
   "cell_type": "markdown",
   "id": "e0a339a2-91ae-417b-9fa8-e457a4400f1f",
   "metadata": {},
   "source": [
    "Looks ready to join together as one!"
   ]
  },
  {
   "cell_type": "code",
   "execution_count": 7,
   "id": "073dd57b-f9e5-49c7-8ceb-aec456adc427",
   "metadata": {},
   "outputs": [
    {
     "name": "stdout",
     "output_type": "stream",
     "text": [
      "<class 'pandas.core.frame.DataFrame'>\n",
      "RangeIndex: 354 entries, 0 to 353\n",
      "Data columns (total 8 columns):\n",
      " #   Column           Non-Null Count  Dtype \n",
      "---  ------           --------------  ----- \n",
      " 0   Games Played     354 non-null    int64 \n",
      " 1   Result           354 non-null    object\n",
      " 2   R                354 non-null    int64 \n",
      " 3   RA               354 non-null    int64 \n",
      " 4   Team             354 non-null    object\n",
      " 5   Loss?            354 non-null    int64 \n",
      " 6   Losses           354 non-null    int64 \n",
      " 7   Expected Losses  354 non-null    int64 \n",
      "dtypes: int64(6), object(2)\n",
      "memory usage: 22.2+ KB\n"
     ]
    }
   ],
   "source": [
    "losers = pd.concat([rockies, sox, mets], ignore_index=True)\n",
    "losers.info()"
   ]
  },
  {
   "cell_type": "code",
   "execution_count": 8,
   "id": "9b575b7a-b304-4363-92f1-b99f83dd3908",
   "metadata": {},
   "outputs": [],
   "source": [
    "losers.to_csv('../Data/Processed/losers.csv', index=False)"
   ]
  }
 ],
 "metadata": {
  "kernelspec": {
   "display_name": "Python (venv)",
   "language": "python",
   "name": "your-env-name"
  },
  "language_info": {
   "codemirror_mode": {
    "name": "ipython",
    "version": 3
   },
   "file_extension": ".py",
   "mimetype": "text/x-python",
   "name": "python",
   "nbconvert_exporter": "python",
   "pygments_lexer": "ipython3",
   "version": "3.9.6"
  }
 },
 "nbformat": 4,
 "nbformat_minor": 5
}
