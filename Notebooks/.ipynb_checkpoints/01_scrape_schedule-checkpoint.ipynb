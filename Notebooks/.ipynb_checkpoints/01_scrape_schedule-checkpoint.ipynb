{
 "cells": [
  {
   "cell_type": "code",
   "execution_count": 21,
   "id": "5afb2662-049a-4314-ada6-21afc96a9245",
   "metadata": {},
   "outputs": [],
   "source": [
    "# import the required packages\n",
    "import requests\n",
    "from bs4 import BeautifulSoup\n",
    "import pandas as pd\n",
    "from datetime import datetime"
   ]
  },
  {
   "cell_type": "code",
   "execution_count": 2,
   "id": "9bf2adea-1511-49bd-b16e-0263f017ae6d",
   "metadata": {},
   "outputs": [],
   "source": [
    "# load the webpage\n",
    "url = 'https://www.baseball-reference.com/teams/COL/2025-schedule-scores.shtml'\n",
    "response = requests.get(url)"
   ]
  },
  {
   "cell_type": "code",
   "execution_count": 3,
   "id": "27bffa0d-f420-4b38-b09f-14d09dc5d0c3",
   "metadata": {},
   "outputs": [
    {
     "name": "stdout",
     "output_type": "stream",
     "text": [
      "Page loaded and parsed!\n"
     ]
    }
   ],
   "source": [
    "# check if the request was successful\n",
    "if response.status_code == 200:\n",
    "    soup = BeautifulSoup(response.text, 'html.parser')\n",
    "    print('Page loaded and parsed!')\n",
    "else:\n",
    "    print(f'Failed to load page: {response.status_code}')"
   ]
  },
  {
   "cell_type": "code",
   "execution_count": 4,
   "id": "679d7293-642a-4968-9f5f-c93786832876",
   "metadata": {},
   "outputs": [
    {
     "name": "stdout",
     "output_type": "stream",
     "text": [
      "Table found!\n"
     ]
    }
   ],
   "source": [
    "# find the table\n",
    "table = soup.find('table', {'class': 'sortable stats_table'})\n",
    "\n",
    "# check if the table was found\n",
    "if table:\n",
    "    print('Table found!')\n",
    "else:\n",
    "    print('Table not found.')"
   ]
  },
  {
   "cell_type": "code",
   "execution_count": 5,
   "id": "26f7cd9e-2567-4f3e-8558-065fc85a9b8d",
   "metadata": {},
   "outputs": [
    {
     "name": "stdout",
     "output_type": "stream",
     "text": [
      "<tr>\n",
      "<th aria-label=\"Gm#\" class=\"poptip sort_default_asc center\" data-stat=\"team_game\" data-tip=\"&lt;strong&gt;Game Number&lt;/strong&gt;&lt;br&gt;Which game out of all played by this team.\" scope=\"col\">Gm#</th>\n",
      "<th aria-label=\"Date\" class=\"poptip sort_default_asc center\" data-stat=\"date_game\" data-tip=\"A number in parentheses indicates which game of a doubleheader.&lt;br&gt;Click dates for box scores of games or standings on this day.\" scope=\"col\">Date</th>\n",
      "<th aria-label=\"\" class=\"poptip sort_default_asc center\" data-stat=\"boxscore\" scope=\"col\"></th>\n",
      "<th aria-label=\"Tm\" class=\"poptip sort_default_asc show_partial_when_sorting center\" data-stat=\"team_ID\" scope=\"col\">Tm</th>\n",
      "<th aria-label=\" \" class=\"poptip sort_default_asc show_partial_when_sorting left\" data-stat=\"homeORvis\" data-tip=\"&lt;strong&gt;Home or Away Game&lt;/strong&gt;&lt;br&gt;@ means it is an away game, blank means home.\" scope=\"col\"> </th>\n",
      "<th aria-label=\"Opp\" class=\"poptip sort_default_asc show_partial_when_sorting center\" data-stat=\"opp_ID\" scope=\"col\">Opp</th>\n",
      "<th aria-label=\"W/L\" class=\"poptip show_partial_when_sorting center\" data-stat=\"win_loss_result\" data-tip=\"&lt;strong&gt;Win/Loss/Tie&lt;/strong&gt;&lt;br&gt;-wo indicates it was a walkoff win or loss. May miss some of those pre-1973, and none before 1940.\" scope=\"col\">W/L</th>\n",
      "<th aria-label=\"Runs Scored\" class=\"poptip center\" data-stat=\"R\" data-tip=\"Runs Scored/Allowed\" scope=\"col\">R</th>\n",
      "<th aria-label=\"Runs Allowed\" class=\"poptip center\" data-stat=\"RA\" data-tip=\"Runs Allowed\" scope=\"col\">RA</th>\n",
      "<th aria-label=\"Inn\" class=\"poptip sort_default_asc show_partial_when_sorting center\" data-stat=\"extra_innings\" data-tip=\"&lt;strong&gt;Innings&lt;/strong&gt;&lt;br&gt;Only shown if something other than 9 innings were played.\" scope=\"col\">Inn</th>\n",
      "<th aria-label=\"W-L\" class=\"poptip sort_default_asc show_partial_when_sorting center\" data-stat=\"win_loss_record\" data-tip=\"&lt;strong&gt;Win Loss Record&lt;/strong&gt;&lt;br&gt;Team&amp;#x2019;s overall record after this game.\" scope=\"col\">W-L</th>\n",
      "<th aria-label=\"Rank\" class=\"poptip sort_default_asc show_partial_when_sorting center\" data-stat=\"rank\" scope=\"col\">Rank</th>\n",
      "<th aria-label=\"Games Back\" class=\"poptip sort_default_asc center\" data-stat=\"games_back\" data-tip=\"&lt;strong&gt;Games Back of Division/League Leader&lt;/strong&gt;&lt;br&gt;Computed as games over .500 of leader (W-L) minus games over .500 of team divided by two.&lt;br&gt;Typically computed at the end of play for a particular day.&lt;br&gt;Blank for 1st game of DH.\" scope=\"col\">GB</th>\n",
      "<th aria-label=\"Win\" class=\"poptip sort_default_asc center\" data-stat=\"winning_pitcher\" scope=\"col\">Win</th>\n",
      "<th aria-label=\"Loss\" class=\"poptip sort_default_asc center\" data-stat=\"losing_pitcher\" scope=\"col\">Loss</th>\n",
      "<th aria-label=\"Save\" class=\"poptip sort_default_asc center\" data-stat=\"saving_pitcher\" scope=\"col\">Save</th>\n",
      "<th aria-label=\"Time\" class=\"poptip center\" data-stat=\"time_of_game\" data-tip=\"&lt;strong&gt;Time of Game&lt;/strong&gt;\" scope=\"col\">Time</th>\n",
      "<th aria-label=\"D/N\" class=\"poptip sort_default_asc center\" data-stat=\"day_or_night\" data-tip=\"Day or Night Game&lt;br&gt;Determined by the start time of the game as stated by RetroSheet.&lt;br&gt;We rely on their designation here.\" scope=\"col\">D/N</th>\n",
      "<th aria-label=\"Attendance\" class=\"poptip center\" data-stat=\"attendance\" data-tip=\"&lt;strong&gt;Attendance&lt;/strong&gt;&lt;br&gt;Typically, tickets sold in home games.\" scope=\"col\">Attendance</th>\n",
      "<th aria-label=\"cLI\" class=\"poptip hide_non_quals center\" data-filter=\"1\" data-name=\"cLI\" data-stat=\"cli\" data-tip=\"&lt;strong&gt;Championship Leverage Index&lt;/strong&gt;&lt;br&gt;The importance of this game on the team's probability of winning the World Series (as calculated before the game).&lt;br&gt;1.0 is average importance, below 1.0 is below average importance and above 1.0 is above average importance.\" scope=\"col\">cLI</th>\n",
      "<th aria-label=\"Streak\" class=\"poptip sort_default_asc show_partial_when_sorting center\" data-stat=\"win_loss_streak\" data-tip=\"&lt;strong&gt;Win Loss Streak&lt;/strong&gt;&lt;br&gt;+ means a winning streak, - means a losing streak.\" scope=\"col\">Streak</th>\n",
      "<th aria-label=\"Orig. Scheduled\" class=\"poptip sort_default_asc center\" data-stat=\"reschedule\" data-tip=\"&lt;strong&gt;Originally Scheduled Game Date&lt;/strong&gt;&lt;br&gt;If this is a makeup game, the original game date. The reason for the reschedule is in parentheses.\" scope=\"col\">Orig. Scheduled</th>\n",
      "</tr>\n",
      "<tr><th class=\"right\" data-stat=\"team_game\" scope=\"row\">1</th><td class=\"left\" csk=\"2025-03-28\" data-stat=\"date_game\"><a href=\"/boxes/?date=2025-03-28\" name=\"1\" title=\"Click for standings on this date\">Friday, Mar 28</a></td><td class=\"left\" data-stat=\"boxscore\"><a href=\"/boxes/TBA/TBA202503280.shtml\">boxscore</a></td><td class=\"left\" data-stat=\"team_ID\">COL</td><td class=\"left\" data-stat=\"homeORvis\">@</td><td class=\"left\" data-stat=\"opp_ID\"><a href=\"/teams/TBR/2025.shtml\">TBR</a></td><td class=\"left\" data-stat=\"win_loss_result\">L-wo</td><td class=\"right\" data-stat=\"R\">2</td><td class=\"right\" data-stat=\"RA\">3</td><td class=\"right iz\" csk=\"8.50\" data-stat=\"extra_innings\"></td><td class=\"right\" csk=\"-1.0\" data-stat=\"win_loss_record\">0-1</td><td class=\"right\" data-stat=\"rank\">5</td><td class=\"right\" csk=\"5\" data-stat=\"games_back\"> 2.5</td><td class=\"left\" data-stat=\"winning_pitcher\"><a href=\"/players/f/fairbpe01.shtml\" title=\"Pete Fairbanks\">Fairbanks</a></td><td class=\"left\" data-stat=\"losing_pitcher\"><a href=\"/players/v/vodnivi01.shtml\" title=\"Victor Vodnik\">Vodnik</a></td><td class=\"left iz\" data-stat=\"saving_pitcher\"></td><td class=\"right\" data-stat=\"time_of_game\">2:19</td><td class=\"right\" data-stat=\"day_or_night\">D</td><td class=\"right\" data-stat=\"attendance\">10,046</td><td class=\"right\" data-stat=\"cli\">.86</td><td class=\"left\" csk=\"-1\" data-stat=\"win_loss_streak\"><tt>-</tt></td><td class=\"left iz\" data-stat=\"reschedule\"></td></tr>\n",
      "<tr><th class=\"right\" data-stat=\"team_game\" scope=\"row\">2</th><td class=\"left\" csk=\"2025-03-29\" data-stat=\"date_game\"><a href=\"/boxes/?date=2025-03-29\" name=\"2\" title=\"Click for standings on this date\">Saturday, Mar 29</a></td><td class=\"left\" data-stat=\"boxscore\"><a href=\"/boxes/TBA/TBA202503290.shtml\">boxscore</a></td><td class=\"left\" data-stat=\"team_ID\">COL</td><td class=\"left\" data-stat=\"homeORvis\">@</td><td class=\"left\" data-stat=\"opp_ID\"><a href=\"/teams/TBR/2025.shtml\">TBR</a></td><td class=\"left\" data-stat=\"win_loss_result\">W</td><td class=\"right\" data-stat=\"R\">2</td><td class=\"right\" data-stat=\"RA\">1</td><td class=\"right iz\" csk=\"9.00\" data-stat=\"extra_innings\"></td><td class=\"right\" csk=\"0.0\" data-stat=\"win_loss_record\">1-1</td><td class=\"right\" data-stat=\"rank\">3</td><td class=\"right\" csk=\"5\" data-stat=\"games_back\"> 2.5</td><td class=\"left\" data-stat=\"winning_pitcher\"><a href=\"/players/p/perallu01.shtml\" title=\"Luis Peralta\">Peralta</a></td><td class=\"left\" data-stat=\"losing_pitcher\"><a href=\"/players/l/litteza01.shtml\" title=\"Zack Littell\">Littell</a></td><td class=\"left\" data-stat=\"saving_pitcher\"><a href=\"/players/h/halvose01.shtml\" title=\"Seth Halvorsen\">Halvorsen</a></td><td class=\"right\" data-stat=\"time_of_game\">2:34</td><td class=\"right\" data-stat=\"day_or_night\">D</td><td class=\"right\" data-stat=\"attendance\">10,046</td><td class=\"right\" data-stat=\"cli\">.82</td><td class=\"left\" csk=\"1\" data-stat=\"win_loss_streak\"><tt>+</tt></td><td class=\"left iz\" data-stat=\"reschedule\"></td></tr>\n",
      "<tr><th class=\"right\" data-stat=\"team_game\" scope=\"row\">3</th><td class=\"left\" csk=\"2025-03-30\" data-stat=\"date_game\"><a href=\"/boxes/?date=2025-03-30\" name=\"3\" title=\"Click for standings on this date\">Sunday, Mar 30</a></td><td class=\"left\" data-stat=\"boxscore\"><a href=\"/boxes/TBA/TBA202503300.shtml\">boxscore</a></td><td class=\"left\" data-stat=\"team_ID\">COL</td><td class=\"left\" data-stat=\"homeORvis\">@</td><td class=\"left\" data-stat=\"opp_ID\"><a href=\"/teams/TBR/2025.shtml\">TBR</a></td><td class=\"left\" data-stat=\"win_loss_result\">L</td><td class=\"right\" data-stat=\"R\">4</td><td class=\"right\" data-stat=\"RA\">6</td><td class=\"right iz\" csk=\"8.50\" data-stat=\"extra_innings\"></td><td class=\"right\" csk=\"-1.0\" data-stat=\"win_loss_record\">1-2</td><td class=\"right\" data-stat=\"rank\">5</td><td class=\"right\" csk=\"6\" data-stat=\"games_back\"> 3.0</td><td class=\"left\" data-stat=\"winning_pitcher\"><a href=\"/players/b/bradlta01.shtml\" title=\"Taj Bradley\">Bradley</a></td><td class=\"left\" data-stat=\"losing_pitcher\"><a href=\"/players/p/perallu01.shtml\" title=\"Luis Peralta\">Peralta</a></td><td class=\"left\" data-stat=\"saving_pitcher\"><a href=\"/players/f/fairbpe01.shtml\" title=\"Pete Fairbanks\">Fairbanks</a></td><td class=\"right\" data-stat=\"time_of_game\">2:41</td><td class=\"right\" data-stat=\"day_or_night\">D</td><td class=\"right\" data-stat=\"attendance\">10,046</td><td class=\"right\" data-stat=\"cli\">.89</td><td class=\"left\" csk=\"-1\" data-stat=\"win_loss_streak\"><tt>-</tt></td><td class=\"left iz\" data-stat=\"reschedule\"></td></tr>\n",
      "<tr><th class=\"right\" data-stat=\"team_game\" scope=\"row\">4</th><td class=\"left\" csk=\"2025-03-31\" data-stat=\"date_game\"><a href=\"/boxes/?date=2025-03-31\" name=\"4\" title=\"Click for standings on this date\">Monday, Mar 31</a></td><td class=\"left\" data-stat=\"boxscore\"><a href=\"/boxes/PHI/PHI202503310.shtml\">boxscore</a></td><td class=\"left\" data-stat=\"team_ID\">COL</td><td class=\"left\" data-stat=\"homeORvis\">@</td><td class=\"left\" data-stat=\"opp_ID\"><a href=\"/teams/PHI/2025.shtml\">PHI</a></td><td class=\"left\" data-stat=\"win_loss_result\">L</td><td class=\"right\" data-stat=\"R\">1</td><td class=\"right\" data-stat=\"RA\">6</td><td class=\"right iz\" csk=\"8.50\" data-stat=\"extra_innings\"></td><td class=\"right\" csk=\"-2.0\" data-stat=\"win_loss_record\">1-3</td><td class=\"right\" data-stat=\"rank\">5</td><td class=\"right\" csk=\"8\" data-stat=\"games_back\"> 4.0</td><td class=\"left\" data-stat=\"winning_pitcher\"><a href=\"/players/r/rossjo01.shtml\" title=\"Joe Ross\">Ross</a></td><td class=\"left\" data-stat=\"losing_pitcher\"><a href=\"/players/a/alexasc02.shtml\" title=\"Scott Alexander\">Alexander</a></td><td class=\"left iz\" data-stat=\"saving_pitcher\"></td><td class=\"right\" data-stat=\"time_of_game\">2:39</td><td class=\"right\" data-stat=\"day_or_night\">D</td><td class=\"right\" data-stat=\"attendance\">44,595</td><td class=\"right\" data-stat=\"cli\">.85</td><td class=\"left\" csk=\"-2\" data-stat=\"win_loss_streak\"><tt>--</tt></td><td class=\"left iz\" data-stat=\"reschedule\"></td></tr>\n"
     ]
    }
   ],
   "source": [
    "# extract all rows in the table, skipping the header\n",
    "rows = table.find_all('tr')\n",
    "\n",
    "# check first 5 rows\n",
    "for row in rows[:5]:\n",
    "    print(row)"
   ]
  },
  {
   "cell_type": "code",
   "execution_count": 8,
   "id": "26266c11-3c52-4416-a456-c1fe6839fd48",
   "metadata": {},
   "outputs": [
    {
     "name": "stdout",
     "output_type": "stream",
     "text": [
      "Friday, Mar 28\n",
      "boxscore\n",
      "COL\n",
      "@\n",
      "TBR\n",
      "L-wo\n",
      "2\n",
      "3\n",
      "\n",
      "0-1\n",
      "5\n",
      "2.5\n",
      "Fairbanks\n",
      "Vodnik\n",
      "\n",
      "2:19\n",
      "D\n",
      "10,046\n",
      ".86\n",
      "-\n",
      "\n"
     ]
    }
   ],
   "source": [
    "# extract the columns from a single row\n",
    "columns = rows[1].find_all('td')  # skip the first row (headers)\n",
    "\n",
    "# print out the first row's columns\n",
    "for col in columns:\n",
    "    print(col.text.strip())"
   ]
  },
  {
   "cell_type": "code",
   "execution_count": 9,
   "id": "14a1f1b3-30c4-40cd-83e9-bde680c6c8ee",
   "metadata": {},
   "outputs": [
    {
     "name": "stdout",
     "output_type": "stream",
     "text": [
      "Headers: ['Gm#', 'Date', '', 'Tm', '', 'Opp', 'W/L', 'R', 'RA', 'Inn', 'W-L', 'Rank', 'GB', 'Win', 'Loss', 'Save', 'Time', 'D/N', 'Attendance', 'cLI', 'Streak', 'Orig. Scheduled', '1', '2', '3', '4', 'Gm#', 'April', '', 'Tm', '', 'Opp', 'W/L', 'R', 'RA', 'Inn', 'W-L', 'Rank', 'GB', 'Win', 'Loss', 'Save', 'Time', 'D/N', 'Attendance', 'cLI', 'Streak', 'Orig. Scheduled', '5', '6', '7', '8', '9', '10', '11', '12', '13', '14', '15', '16', '17', '18', '19', '20', '21', '22', '23', '24', '25', '26', '27', '28', '29', '30', '31', '32', '33', '34', '35', '36', '37', '38', '39', '40', '41', '42', '43', '44', '45', '46', '47', '48', '49', 'Gm#', 'Date', '', 'Tm', '', 'Opp', '', '', 'D/N', 'cLI', 'Orig. Scheduled', '50', '51', '52', '53', '54', '55', '56', '57', '58', '59', '60', '61', '62', '63', '64', '65', '66', '67', '68', '69', '70', '71', '72', '73', '74', '75', '76', '77', '78', '79', '80', '81', '82', '83', '84', '85', '86', '87', '88', '89', '90', '91', '92', '93', '94', '95', '96', '97', '98', '99', 'Gm#', 'Date', '', 'Tm', '', 'Opp', '', '', 'D/N', 'cLI', 'Orig. Scheduled', '100', '101', '102', '103', '104', '105', '106', '107', '108', '109', '110', '111', '112', '113', '114', '115', '116', '117', '118', '119', '120', '121', '122', '123', '124', '125', '126', '127', '128', '129', '130', '131', '132', '133', '134', '135', '136', '137', '138', '139', '140', '141', '142', '143', '144', '145', '146', '147', '148', '149', 'Gm#', 'Date', '', 'Tm', '', 'Opp', '', '', 'D/N', 'cLI', 'Orig. Scheduled', '150', '151', '152', '153', '154', '155', '156', '157', '158', '159', '160', '161', '162', 'Gm#', 'Date', '', 'Tm', '', 'Opp', '', '', 'D/N', 'cLI', 'Orig. Scheduled']\n"
     ]
    }
   ],
   "source": [
    "# extract and print the headers\n",
    "headers = table.find_all('th')\n",
    "header_text = [header.get_text(strip=True) for header in headers]\n",
    "print('Headers:', header_text)"
   ]
  },
  {
   "cell_type": "code",
   "execution_count": 10,
   "id": "ea9696e3-ee94-43cd-910c-1a89249d47e1",
   "metadata": {},
   "outputs": [
    {
     "name": "stdout",
     "output_type": "stream",
     "text": [
      "Gm#\n",
      "W/L\n",
      "R\n",
      "RA\n"
     ]
    }
   ],
   "source": [
    "print(header_text[0])\n",
    "print(header_text[6])\n",
    "print(header_text[7])\n",
    "print(header_text[8])"
   ]
  },
  {
   "cell_type": "code",
   "execution_count": 18,
   "id": "5ec2f116-73f4-49e3-94ac-76ae004c914c",
   "metadata": {},
   "outputs": [
    {
     "name": "stdout",
     "output_type": "stream",
     "text": [
      "Skipping row. Non-numeric R or RA. 30Wednesday, Apr 30previewCOLATL3:10 pmGame Preview, and Matchups\n",
      "Skipping row. Non-numeric R or RA. 31Thursday, May 1previewCOL@SFG9:45 pmGame Preview, and Matchups\n",
      "Skipping row. Non-numeric R or RA. 32Friday, May 2previewCOL@SFG10:15 pmGame Preview, and Matchups\n",
      "Skipping row. Non-numeric R or RA. 33Saturday, May 3previewCOL@SFG4:05 pmGame Preview, and Matchups\n",
      "Skipping row. Non-numeric R or RA. 34Sunday, May 4previewCOL@SFG4:05 pmGame Preview, and Matchups\n",
      "Skipping row. Non-numeric R or RA. 35Tuesday, May 6previewCOLDET8:40 pmGame Preview, and Matchups\n",
      "Skipping row. Non-numeric R or RA. 36Wednesday, May 7previewCOLDET8:40 pmGame Preview, and Matchups\n",
      "Skipping row. Non-numeric R or RA. 37Thursday, May 8previewCOLDET3:10 pmGame Preview, and Matchups\n",
      "Skipping row. Non-numeric R or RA. 38Friday, May 9previewCOLSDP8:40 pmGame Preview, and Matchups\n",
      "Skipping row. Non-numeric R or RA. 39Saturday, May 10previewCOLSDP8:10 pmGame Preview, and Matchups\n",
      "Skipping row. Non-numeric R or RA. 40Sunday, May 11previewCOLSDP3:10 pmGame Preview, and Matchups\n",
      "Skipping row. Non-numeric R or RA. 41Monday, May 12previewCOL@TEX8:05 pmGame Preview, and Matchups\n",
      "Skipping row. Non-numeric R or RA. 42Tuesday, May 13previewCOL@TEX8:05 pmGame Preview, and Matchups\n",
      "Skipping row. Non-numeric R or RA. 43Wednesday, May 14previewCOL@TEX8:05 pmGame Preview, and Matchups\n",
      "Skipping row. Non-numeric R or RA. 44Friday, May 16previewCOL@ARI9:40 pmGame Preview, and Matchups\n",
      "Skipping row. Non-numeric R or RA. 45Saturday, May 17previewCOL@ARI8:10 pmGame Preview, and Matchups\n",
      "Skipping row. Non-numeric R or RA. 46Sunday, May 18previewCOL@ARI4:10 pmGame Preview, and Matchups\n",
      "Skipping row. Non-numeric R or RA. 47Monday, May 19previewCOLPHI8:40 pmGame Preview, and Matchups\n",
      "Skipping row. Non-numeric R or RA. 48Tuesday, May 20previewCOLPHI8:40 pmGame Preview, and Matchups\n",
      "Skipping row. Non-numeric R or RA. 49Wednesday, May 21previewCOLPHI8:40 pmGame Preview, and Matchups\n",
      "Skipping row. Non-numeric R or RA. 50Thursday, May 22previewCOLPHI3:10 pmGame Preview, and Matchups\n",
      "Skipping row. Non-numeric R or RA. 51Friday, May 23previewCOLNYY8:40 pmGame Preview, and Matchups\n",
      "Skipping row. Non-numeric R or RA. 52Saturday, May 24previewCOLNYY4:10 pmGame Preview, and Matchups\n",
      "Skipping row. Non-numeric R or RA. 53Sunday, May 25previewCOLNYY3:10 pmGame Preview, and Matchups\n",
      "Skipping row. Non-numeric R or RA. 54Monday, May 26previewCOL@CHC2:20 pmGame Preview, and Matchups\n",
      "Skipping row. Non-numeric R or RA. 55Tuesday, May 27previewCOL@CHC8:05 pmGame Preview, and Matchups\n",
      "Skipping row. Non-numeric R or RA. 56Wednesday, May 28previewCOL@CHC8:05 pmGame Preview, and Matchups\n",
      "Skipping row. Non-numeric R or RA. 57Friday, May 30previewCOL@NYM7:10 pmGame Preview, and Matchups\n",
      "Skipping row. Non-numeric R or RA. 58Saturday, May 31previewCOL@NYM4:10 pmGame Preview, and Matchups\n",
      "Skipping row. Non-numeric R or RA. 59Sunday, Jun 1previewCOL@NYM1:40 pmGame Preview, and Matchups\n",
      "Skipping row. Non-numeric R or RA. 60Monday, Jun 2previewCOL@MIA6:40 pmGame Preview, and Matchups\n",
      "Skipping row. Non-numeric R or RA. 61Tuesday, Jun 3previewCOL@MIA6:40 pmGame Preview, and Matchups\n",
      "Skipping row. Non-numeric R or RA. 62Wednesday, Jun 4previewCOL@MIA12:10 pmGame Preview, and Matchups\n",
      "Skipping row. Non-numeric R or RA. 63Friday, Jun 6previewCOLNYM8:40 pmGame Preview, and Matchups\n",
      "Skipping row. Non-numeric R or RA. 64Saturday, Jun 7previewCOLNYM9:40 pmGame Preview, and Matchups\n",
      "Skipping row. Non-numeric R or RA. 65Sunday, Jun 8previewCOLNYM3:10 pmGame Preview, and Matchups\n",
      "Skipping row. Non-numeric R or RA. 66Tuesday, Jun 10previewCOLSFG8:40 pmGame Preview, and Matchups\n",
      "Skipping row. Non-numeric R or RA. 67Wednesday, Jun 11previewCOLSFG8:40 pmGame Preview, and Matchups\n",
      "Skipping row. Non-numeric R or RA. 68Thursday, Jun 12previewCOLSFG3:10 pmGame Preview, and Matchups\n",
      "Skipping row. Non-numeric R or RA. 69Friday, Jun 13previewCOL@ATL7:15 pmGame Preview, and Matchups\n",
      "Skipping row. Non-numeric R or RA. 70Saturday, Jun 14previewCOL@ATL4:10 pmGame Preview, and Matchups\n",
      "Skipping row. Non-numeric R or RA. 71Sunday, Jun 15previewCOL@ATL1:35 pmGame Preview, and Matchups\n",
      "Skipping row. Non-numeric R or RA. 72Monday, Jun 16previewCOL@WSN6:45 pmGame Preview, and Matchups\n",
      "Skipping row. Non-numeric R or RA. 73Tuesday, Jun 17previewCOL@WSN6:45 pmGame Preview, and Matchups\n",
      "Skipping row. Non-numeric R or RA. 74Wednesday, Jun 18previewCOL@WSN6:45 pmGame Preview, and Matchups\n",
      "Skipping row. Non-numeric R or RA. 75Thursday, Jun 19previewCOL@WSN1:05 pmGame Preview, and Matchups\n",
      "Skipping row. Non-numeric R or RA. 76Friday, Jun 20previewCOLARI8:40 pmGame Preview, and Matchups\n",
      "Skipping row. Non-numeric R or RA. 77Saturday, Jun 21previewCOLARI9:10 pmGame Preview, and Matchups\n",
      "Skipping row. Non-numeric R or RA. 78Sunday, Jun 22previewCOLARI3:10 pmGame Preview, and Matchups\n",
      "Skipping row. Non-numeric R or RA. 79Tuesday, Jun 24previewCOLLAD8:40 pmGame Preview, and Matchups\n",
      "Skipping row. Non-numeric R or RA. 80Wednesday, Jun 25previewCOLLAD8:40 pmGame Preview, and Matchups\n",
      "Skipping row. Non-numeric R or RA. 81Thursday, Jun 26previewCOLLAD3:10 pmGame Preview, and Matchups\n",
      "Skipping row. Non-numeric R or RA. 82Friday, Jun 27previewCOL@MIL8:10 pmGame Preview, and Matchups\n",
      "Skipping row. Non-numeric R or RA. 83Saturday, Jun 28previewCOL@MIL4:10 pmGame Preview, and Matchups\n",
      "Skipping row. Non-numeric R or RA. 84Sunday, Jun 29previewCOL@MIL2:10 pmGame Preview, and Matchups\n",
      "Skipping row. Non-numeric R or RA. 85Tuesday, Jul 1previewCOLHOU8:40 pmGame Preview, and Matchups\n",
      "Skipping row. Non-numeric R or RA. 86Wednesday, Jul 2previewCOLHOU8:40 pmGame Preview, and Matchups\n",
      "Skipping row. Non-numeric R or RA. 87Thursday, Jul 3previewCOLHOU3:10 pmGame Preview, and Matchups\n",
      "Skipping row. Non-numeric R or RA. 88Friday, Jul 4previewCOLCHW8:10 pmGame Preview, and Matchups\n",
      "Skipping row. Non-numeric R or RA. 89Saturday, Jul 5previewCOLCHW9:10 pmGame Preview, and Matchups\n",
      "Skipping row. Non-numeric R or RA. 90Sunday, Jul 6previewCOLCHW3:10 pmGame Preview, and Matchups\n",
      "Skipping row. Non-numeric R or RA. 91Monday, Jul 7previewCOL@BOS7:10 pmGame Preview, and Matchups\n",
      "Skipping row. Non-numeric R or RA. 92Tuesday, Jul 8previewCOL@BOS7:10 pmGame Preview, and Matchups\n",
      "Skipping row. Non-numeric R or RA. 93Wednesday, Jul 9previewCOL@BOS7:10 pmGame Preview, and Matchups\n",
      "Skipping row. Non-numeric R or RA. 94Friday, Jul 11previewCOL@CIN7:10 pmGame Preview, and Matchups\n",
      "Skipping row. Non-numeric R or RA. 95Saturday, Jul 12previewCOL@CIN4:10 pmGame Preview, and Matchups\n",
      "Skipping row. Non-numeric R or RA. 96Sunday, Jul 13previewCOL@CIN1:40 pmGame Preview, and Matchups\n",
      "Skipping row. Non-numeric R or RA. 97Friday, Jul 18previewCOLMIN8:40 pmGame Preview, and Matchups\n",
      "Skipping row. Non-numeric R or RA. 98Saturday, Jul 19previewCOLMIN8:10 pmGame Preview, and Matchups\n",
      "Skipping row. Non-numeric R or RA. 99Sunday, Jul 20previewCOLMIN3:10 pmGame Preview, and Matchups\n",
      "Skipping row. Non-numeric R or RA. 100Monday, Jul 21previewCOLSTL8:40 pmGame Preview, and Matchups\n",
      "Skipping row. Non-numeric R or RA. 101Tuesday, Jul 22previewCOLSTL8:40 pmGame Preview, and Matchups\n",
      "Skipping row. Non-numeric R or RA. 102Wednesday, Jul 23previewCOLSTL3:10 pmGame Preview, and Matchups\n",
      "Skipping row. Non-numeric R or RA. 103Friday, Jul 25previewCOL@BAL7:05 pmGame Preview, and Matchups\n",
      "Skipping row. Non-numeric R or RA. 104Saturday, Jul 26previewCOL@BAL7:05 pmGame Preview, and Matchups\n",
      "Skipping row. Non-numeric R or RA. 105Sunday, Jul 27previewCOL@BAL1:35 pmGame Preview, and Matchups\n",
      "Skipping row. Non-numeric R or RA. 106Monday, Jul 28previewCOL@CLE6:40 pmGame Preview, and Matchups\n",
      "Skipping row. Non-numeric R or RA. 107Tuesday, Jul 29previewCOL@CLE6:40 pmGame Preview, and Matchups\n",
      "Skipping row. Non-numeric R or RA. 108Wednesday, Jul 30previewCOL@CLE6:40 pmGame Preview, and Matchups\n",
      "Skipping row. Non-numeric R or RA. 109Friday, Aug 1previewCOLPIT8:10 pmGame Preview, and Matchups\n",
      "Skipping row. Non-numeric R or RA. 110Saturday, Aug 2previewCOLPIT3:10 pmGame Preview, and Matchups\n",
      "Skipping row. Non-numeric R or RA. 111Sunday, Aug 3previewCOLPIT3:10 pmGame Preview, and Matchups\n",
      "Skipping row. Non-numeric R or RA. 112Monday, Aug 4previewCOLTOR8:40 pmGame Preview, and Matchups\n",
      "Skipping row. Non-numeric R or RA. 113Tuesday, Aug 5previewCOLTOR8:40 pmGame Preview, and Matchups\n",
      "Skipping row. Non-numeric R or RA. 114Wednesday, Aug 6previewCOLTOR3:10 pmGame Preview, and Matchups\n",
      "Skipping row. Non-numeric R or RA. 115Friday, Aug 8previewCOL@ARI9:40 pmGame Preview, and Matchups\n",
      "Skipping row. Non-numeric R or RA. 116Saturday, Aug 9previewCOL@ARI8:10 pmGame Preview, and Matchups\n",
      "Skipping row. Non-numeric R or RA. 117Sunday, Aug 10previewCOL@ARI4:10 pmGame Preview, and Matchups\n",
      "Skipping row. Non-numeric R or RA. 118Monday, Aug 11previewCOL@STL7:45 pmGame Preview, and Matchups\n",
      "Skipping row. Non-numeric R or RA. 119Tuesday, Aug 12previewCOL@STL7:45 pmGame Preview, and Matchups\n",
      "Skipping row. Non-numeric R or RA. 120Wednesday, Aug 13previewCOL@STL2:15 pmGame Preview, and Matchups\n",
      "Skipping row. Non-numeric R or RA. 121Thursday, Aug 14previewCOLARI8:40 pmGame Preview, and Matchups\n",
      "Skipping row. Non-numeric R or RA. 122Friday, Aug 15previewCOLARI8:40 pmGame Preview, and Matchups\n",
      "Skipping row. Non-numeric R or RA. 123Saturday, Aug 16previewCOLARI8:10 pmGame Preview, and Matchups\n",
      "Skipping row. Non-numeric R or RA. 124Sunday, Aug 17previewCOLARI3:10 pmGame Preview, and Matchups\n",
      "Skipping row. Non-numeric R or RA. 125Monday, Aug 18previewCOLLAD8:40 pmGame Preview, and Matchups\n",
      "Skipping row. Non-numeric R or RA. 126Tuesday, Aug 19previewCOLLAD8:40 pmGame Preview, and Matchups\n",
      "Skipping row. Non-numeric R or RA. 127Wednesday, Aug 20previewCOLLAD8:40 pmGame Preview, and Matchups\n",
      "Skipping row. Non-numeric R or RA. 128Thursday, Aug 21previewCOLLAD3:10 pmGame Preview, and Matchups\n",
      "Skipping row. Non-numeric R or RA. 129Friday, Aug 22previewCOL@PIT6:40 pmGame Preview, and Matchups\n",
      "Skipping row. Non-numeric R or RA. 130Saturday, Aug 23previewCOL@PIT6:40 pmGame Preview, and Matchups\n",
      "Skipping row. Non-numeric R or RA. 131Sunday, Aug 24previewCOL@PIT12:05 pmGame Preview, and Matchups\n",
      "Skipping row. Non-numeric R or RA. 132Tuesday, Aug 26previewCOL@HOU8:10 pmGame Preview, and Matchups\n",
      "Skipping row. Non-numeric R or RA. 133Wednesday, Aug 27previewCOL@HOU8:10 pmGame Preview, and Matchups\n",
      "Skipping row. Non-numeric R or RA. 134Thursday, Aug 28previewCOL@HOU2:10 pmGame Preview, and Matchups\n",
      "Skipping row. Non-numeric R or RA. 135Friday, Aug 29previewCOLCHC8:40 pmGame Preview, and Matchups\n",
      "Skipping row. Non-numeric R or RA. 136Saturday, Aug 30previewCOLCHC8:10 pmGame Preview, and Matchups\n",
      "Skipping row. Non-numeric R or RA. 137Sunday, Aug 31previewCOLCHC3:10 pmGame Preview, and Matchups\n",
      "Skipping row. Non-numeric R or RA. 138Monday, Sep 1previewCOLSFG4:10 pmGame Preview, and Matchups\n",
      "Skipping row. Non-numeric R or RA. 139Tuesday, Sep 2previewCOLSFG8:40 pmGame Preview, and Matchups\n",
      "Skipping row. Non-numeric R or RA. 140Wednesday, Sep 3previewCOLSFG8:40 pmGame Preview, and Matchups\n",
      "Skipping row. Non-numeric R or RA. 141Friday, Sep 5previewCOLSDP8:40 pmGame Preview, and Matchups\n",
      "Skipping row. Non-numeric R or RA. 142Saturday, Sep 6previewCOLSDP8:10 pmGame Preview, and Matchups\n",
      "Skipping row. Non-numeric R or RA. 143Sunday, Sep 7previewCOLSDP3:10 pmGame Preview, and Matchups\n",
      "Skipping row. Non-numeric R or RA. 144Monday, Sep 8previewCOL@LAD10:10 pmGame Preview, and Matchups\n",
      "Skipping row. Non-numeric R or RA. 145Tuesday, Sep 9previewCOL@LAD10:10 pmGame Preview, and Matchups\n",
      "Skipping row. Non-numeric R or RA. 146Wednesday, Sep 10previewCOL@LAD10:10 pmGame Preview, and Matchups\n",
      "Skipping row. Non-numeric R or RA. 147Thursday, Sep 11previewCOL@SDP9:40 pmGame Preview, and Matchups\n",
      "Skipping row. Non-numeric R or RA. 148Friday, Sep 12previewCOL@SDP9:40 pmGame Preview, and Matchups\n",
      "Skipping row. Non-numeric R or RA. 149Saturday, Sep 13previewCOL@SDP8:40 pmGame Preview, and Matchups\n",
      "Skipping row. Non-numeric R or RA. 150Sunday, Sep 14previewCOL@SDP4:10 pmGame Preview, and Matchups\n",
      "Skipping row. Non-numeric R or RA. 151Tuesday, Sep 16previewCOLMIA8:40 pmGame Preview, and Matchups\n",
      "Skipping row. Non-numeric R or RA. 152Wednesday, Sep 17previewCOLMIA8:40 pmGame Preview, and Matchups\n",
      "Skipping row. Non-numeric R or RA. 153Thursday, Sep 18previewCOLMIA3:10 pmGame Preview, and Matchups\n",
      "Skipping row. Non-numeric R or RA. 154Friday, Sep 19previewCOLLAA8:10 pmGame Preview, and Matchups\n",
      "Skipping row. Non-numeric R or RA. 155Saturday, Sep 20previewCOLLAA8:10 pmGame Preview, and Matchups\n",
      "Skipping row. Non-numeric R or RA. 156Sunday, Sep 21previewCOLLAA3:10 pmGame Preview, and Matchups\n",
      "Skipping row. Non-numeric R or RA. 157Tuesday, Sep 23previewCOL@SEA9:40 pmGame Preview, and Matchups\n",
      "Skipping row. Non-numeric R or RA. 158Wednesday, Sep 24previewCOL@SEA9:40 pmGame Preview, and Matchups\n",
      "Skipping row. Non-numeric R or RA. 159Thursday, Sep 25previewCOL@SEA9:40 pmGame Preview, and Matchups\n",
      "Skipping row. Non-numeric R or RA. 160Friday, Sep 26previewCOL@SFG10:15 pmGame Preview, and Matchups\n",
      "Skipping row. Non-numeric R or RA. 161Saturday, Sep 27previewCOL@SFG4:05 pmGame Preview, and Matchups\n",
      "Skipping row. Non-numeric R or RA. 162Sunday, Sep 28previewCOL@SFG3:05 pmGame Preview, and Matchups\n"
     ]
    }
   ],
   "source": [
    "# fetch the page\n",
    "soup = BeautifulSoup(response.text, 'html.parser')\n",
    "\n",
    "# loop through each row of the table (skip the header row)\n",
    "games_data = []\n",
    "gp = 1\n",
    "for row in table.find_all('tr')[1:]:\n",
    "    columns = row.find_all('td')\n",
    "\n",
    "    # ensure there are enough columns\n",
    "    if len(columns) > 8:\n",
    "        result = columns[5].get_text(strip=True)\n",
    "        runs_scored = columns[6].get_text(strip=True)\n",
    "        runs_allowed = columns[7].get_text(strip=True)\n",
    "        \n",
    "        # skip non-numeric R or RA\n",
    "        if not (runs_scored.isdigit() and runs_allowed.isdigit()):\n",
    "            print(f'Skipping row. Non-numeric R or RA. {row.get_text(strip=True)}')\n",
    "            continue\n",
    "\n",
    "        games_data.append({\n",
    "            'Games Played': gp,\n",
    "            'Result': result,\n",
    "            'R': runs_scored,\n",
    "            'RA': runs_allowed\n",
    "        })\n",
    "\n",
    "        gp += 1"
   ]
  },
  {
   "cell_type": "code",
   "execution_count": 19,
   "id": "9df2bce2-b6e5-43c8-8afb-3930c425fdd1",
   "metadata": {},
   "outputs": [
    {
     "name": "stdout",
     "output_type": "stream",
     "text": [
      "{'Games Played': 1, 'Result': 'L-wo', 'R': '2', 'RA': '3'}\n",
      "{'Games Played': 2, 'Result': 'W', 'R': '2', 'RA': '1'}\n",
      "{'Games Played': 3, 'Result': 'L', 'R': '4', 'RA': '6'}\n",
      "{'Games Played': 4, 'Result': 'L', 'R': '1', 'RA': '6'}\n",
      "{'Games Played': 5, 'Result': 'L', 'R': '1', 'RA': '5'}\n",
      "{'Games Played': 6, 'Result': 'L', 'R': '1', 'RA': '3'}\n",
      "{'Games Played': 7, 'Result': 'L', 'R': '3', 'RA': '6'}\n",
      "{'Games Played': 8, 'Result': 'L', 'R': '4', 'RA': '7'}\n",
      "{'Games Played': 9, 'Result': 'W', 'R': '12', 'RA': '5'}\n",
      "{'Games Played': 10, 'Result': 'L', 'R': '1', 'RA': '7'}\n",
      "{'Games Played': 11, 'Result': 'L', 'R': '2', 'RA': '17'}\n",
      "{'Games Played': 12, 'Result': 'W', 'R': '7', 'RA': '2'}\n",
      "{'Games Played': 13, 'Result': 'L', 'R': '0', 'RA': '8'}\n",
      "{'Games Played': 14, 'Result': 'L', 'R': '0', 'RA': '2'}\n",
      "{'Games Played': 15, 'Result': 'L', 'R': '0', 'RA': '6'}\n",
      "{'Games Played': 16, 'Result': 'L', 'R': '3', 'RA': '5'}\n",
      "{'Games Played': 17, 'Result': 'L', 'R': '2', 'RA': '6'}\n",
      "{'Games Played': 18, 'Result': 'L', 'R': '7', 'RA': '8'}\n",
      "{'Games Played': 19, 'Result': 'L', 'R': '11', 'RA': '12'}\n",
      "{'Games Played': 20, 'Result': 'L', 'R': '2', 'RA': '3'}\n",
      "{'Games Played': 21, 'Result': 'W', 'R': '3', 'RA': '1'}\n",
      "{'Games Played': 22, 'Result': 'L-wo', 'R': '3', 'RA': '4'}\n",
      "{'Games Played': 23, 'Result': 'L', 'R': '4', 'RA': '7'}\n",
      "{'Games Played': 24, 'Result': 'L', 'R': '2', 'RA': '6'}\n",
      "{'Games Played': 25, 'Result': 'L', 'R': '7', 'RA': '8'}\n",
      "{'Games Played': 26, 'Result': 'L', 'R': '4', 'RA': '6'}\n",
      "{'Games Played': 27, 'Result': 'L', 'R': '1', 'RA': '8'}\n",
      "{'Games Played': 28, 'Result': 'L', 'R': '3', 'RA': '6'}\n",
      "{'Games Played': 29, 'Result': 'L', 'R': '2', 'RA': '8'}\n"
     ]
    }
   ],
   "source": [
    "for game in games_data:\n",
    "    print(game)"
   ]
  },
  {
   "cell_type": "code",
   "execution_count": 22,
   "id": "5476f199-dfd6-4aec-bec6-b81ed2adc51f",
   "metadata": {},
   "outputs": [],
   "source": [
    "df = pd.DataFrame(games_data)\n",
    "df.to_csv('../Data/Raw/COL_2025_schedule.csv', index=False)"
   ]
  }
 ],
 "metadata": {
  "kernelspec": {
   "display_name": "Python (myenv)",
   "language": "python",
   "name": "myenv"
  },
  "language_info": {
   "codemirror_mode": {
    "name": "ipython",
    "version": 3
   },
   "file_extension": ".py",
   "mimetype": "text/x-python",
   "name": "python",
   "nbconvert_exporter": "python",
   "pygments_lexer": "ipython3",
   "version": "3.9.6"
  }
 },
 "nbformat": 4,
 "nbformat_minor": 5
}
